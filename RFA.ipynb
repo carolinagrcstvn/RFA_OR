{
 "cells": [
  {
   "cell_type": "markdown",
   "source": [
    "# Random Forests\n",
    "#### Abstract\n",
    "This assignment describes Random Forests, a machine learning method for classification which is based on decision trees. The assignment first provides an introduction on Random forests, describing the technique and the relationship to decision trees. Then, the assignment describes a practical use case and includes an implementation example using standard libraries like [Sklearn](https://scikit-learn.org/stable/modules/generated/sklearn.ensemble.RandomForestClassifier.html). The last section includes some final conclusions. \n",
    "\n"
   ],
   "metadata": {
    "collapsed": false
   }
  },
  {
   "cell_type": "markdown",
   "source": [
    "#Introduction \n",
    "## Decision Trees\n",
    "Provide a description of how decision trees can be used to solve classification problems. Find some inspiration [here](https://www.datacamp.com/community/tutorials/decision-tree-classification-python)\n",
    "\n",
    "## Random forests\n",
    "Then, describe random forests. \n",
    "\n"
   ],
   "metadata": {
    "collapsed": false
   }
  },
  {
   "cell_type": "markdown",
   "source": [
    "# Implementation\n",
    "## Practical use case\n",
    "Describe a practical use case of a machine learning classification problem.\n",
    "\n",
    "## Random forests in Python\n",
    "Add code cells to show an implementation example using Python."
   ],
   "metadata": {
    "collapsed": false
   }
  },
  {
   "cell_type": "markdown",
   "source": [
    "# Conclusion\n",
    "Describe here the main conclusions of your research work\n"
   ],
   "metadata": {
    "collapsed": false
   }
  },
  {
   "cell_type": "markdown",
   "source": [
    "# References\n",
    "\n"
   ],
   "metadata": {
    "collapsed": false
   }
  }
 ],
 "metadata": {
  "kernelspec": {
   "display_name": "Python 3",
   "language": "python",
   "name": "python3"
  },
  "language_info": {
   "codemirror_mode": {
    "name": "ipython",
    "version": 2
   },
   "file_extension": ".py",
   "mimetype": "text/x-python",
   "name": "python",
   "nbconvert_exporter": "python",
   "pygments_lexer": "ipython2",
   "version": "2.7.6"
  }
 },
 "nbformat": 4,
 "nbformat_minor": 0
}